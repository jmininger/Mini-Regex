{
 "cells": [
  {
   "cell_type": "markdown",
   "metadata": {},
   "source": [
    "# Building a regular expression engine in Python"
   ]
  },
  {
   "cell_type": "markdown",
   "metadata": {},
   "source": [
    "### Introduction\n",
    "\n",
    "The goal of this tutorial is to build out a regular expression engine from scratch. Our *MiniRegex* class will allow the client to \n",
    "\n",
    "### Basic Architecture: \n",
    "Our regex software will have three seperate parts: A recursive descent parser that takes a string and returns an \n",
    "\n",
    "A simple regular expression engine that parses rexeps, converts them into an\n",
    "NFA(non-deterministic finite automata) and runs it on input strings to find\n",
    "matches. \n",
    "\n",
    "Patterns supported: \n",
    "ab -- union\n",
    "a|b -- or\n",
    "a* -- Kleene star\n",
    ". -- (Metachar)\n",
    "(ab (c|d)) | e -- nested expressions"
   ]
  },
  {
   "cell_type": "code",
   "execution_count": 1,
   "metadata": {},
   "outputs": [
    {
     "name": "stdout",
     "output_type": "stream",
     "text": [
      "Hello\n"
     ]
    }
   ],
   "source": [
    "### Lets start with the interface for the MiniRegex. This will be the main interface that the client interacts with\n",
    "\n",
    "class MiniRegex:\n",
    "    def _build_nfa(self, pattern_str):\n",
    "        tokenizer = Tokenizer(pattern_str)\n",
    "        parser = RegexParser(tokenizer)\n",
    "        return parser.construct_nfa()\n",
    "\n",
    "    def find_match_at(self, search_space):\n",
    "        \"\"\" Returns True iff there is a match starting at the first char of the\n",
    "        search_space argument \"\"\"\n",
    "        runner = DFASimulator(self._nfa)\n",
    "        for c in search_space:\n",
    "            if runner.advance_multi_state(c):\n",
    "                return True\n",
    "            if not runner.is_active():\n",
    "                return False\n",
    "        return False\n",
    "\n",
    "    def find_all_matches(self, search_space):\n",
    "        runner = DFASimulator(self._nfa)\n",
    "        matches = {}  # start_index: end_index\n",
    "        for c in search_space:\n",
    "            match = runner.advance_multi_state(c)\n",
    "            if match:\n",
    "                start_idx, end_idx = match\n",
    "                matches[start_idx] = end_idx\n",
    "        return [(start, end) for start, end in matches.items()]\n",
    "\n",
    "    # def is_match(self, search_space):\n",
    "    #     search_space argument \"\"\"\n",
    "    #     runner = DFASimulator(self._nfa)\n",
    "    #     for c in search_space:\n",
    "    #         if runner.advance_state(c):\n",
    "    #             return True\n",
    "    #         if not runner.is_active():\n",
    "    #             return False\n",
    "    #     return False\n",
    "\n",
    "    def first_match(self, search_space):\n",
    "        for i in range(len(search_space)):\n",
    "            if self.is_match(search_space[i:]):\n",
    "                return i\n",
    "        return None\n",
    "\n"
   ]
  }
 ],
 "metadata": {
  "kernelspec": {
   "display_name": "Python 3",
   "language": "python",
   "name": "python3"
  },
  "language_info": {
   "codemirror_mode": {
    "name": "ipython",
    "version": 3
   },
   "file_extension": ".py",
   "mimetype": "text/x-python",
   "name": "python",
   "nbconvert_exporter": "python",
   "pygments_lexer": "ipython3",
   "version": "3.6.5"
  }
 },
 "nbformat": 4,
 "nbformat_minor": 2
}
